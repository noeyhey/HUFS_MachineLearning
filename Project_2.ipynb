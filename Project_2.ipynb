{
  "nbformat": 4,
  "nbformat_minor": 0,
  "metadata": {
    "colab": {
      "provenance": [],
      "gpuType": "T4",
      "include_colab_link": true
    },
    "kernelspec": {
      "name": "python3",
      "display_name": "Python 3"
    },
    "language_info": {
      "name": "python"
    }
  },
  "cells": [
    {
      "cell_type": "markdown",
      "metadata": {
        "id": "view-in-github",
        "colab_type": "text"
      },
      "source": [
        "<a href=\"https://colab.research.google.com/github/noeyhey/HUFS_MachineLearning/blob/main/Project_2.ipynb\" target=\"_parent\"><img src=\"https://colab.research.google.com/assets/colab-badge.svg\" alt=\"Open In Colab\"/></a>"
      ]
    },
    {
      "cell_type": "markdown",
      "source": [
        "**Project#2 Adult Income 데이터를 활용한 하이퍼파라미터튜닝 & 앙상블모델**"
      ],
      "metadata": {
        "id": "gK5AWnN_PW0T"
      }
    },
    {
      "cell_type": "markdown",
      "source": [
        "#### 데이터 불러오기"
      ],
      "metadata": {
        "id": "cLYOqFSmP8ob"
      }
    },
    {
      "cell_type": "code",
      "source": [
        "import pandas as pd\n",
        "import numpy as np\n",
        "from sklearn.impute import SimpleImputer\n",
        "from sklearn.model_selection import train_test_split\n",
        "from sklearn.preprocessing import OneHotEncoder, StandardScaler, LabelEncoder\n",
        "from sklearn.linear_model import LogisticRegression\n",
        "from sklearn.metrics import accuracy_score, classification_report"
      ],
      "metadata": {
        "id": "AcwhFYZpSMQT"
      },
      "execution_count": null,
      "outputs": []
    },
    {
      "cell_type": "markdown",
      "source": [
        "Loading original data..."
      ],
      "metadata": {
        "id": "MaRJOecQWxWv"
      }
    },
    {
      "cell_type": "code",
      "source": [
        "from google.colab import drive\n",
        "drive.mount('/content/gdrive')\n",
        "\n",
        "filepath = '/content/gdrive/MyDrive/adult.csv'\n",
        "df = pd.read_csv(filepath)\n",
        "df.replace('?', np.nan, inplace=True)\n",
        "print(f\"Original data shape: {df.shape}\")\n",
        "print(f\"결측치가 포함된 행 수: {df.isnull().any(axis=1).sum()}\")"
      ],
      "metadata": {
        "colab": {
          "base_uri": "https://localhost:8080/"
        },
        "id": "T-DFIMZgP8PO",
        "outputId": "bc870b26-9fbc-47e1-8c7c-2baca65a1aea"
      },
      "execution_count": null,
      "outputs": [
        {
          "output_type": "stream",
          "name": "stdout",
          "text": [
            "Mounted at /content/gdrive\n",
            "Original data shape: (32561, 15)\n",
            "결측치가 포함된 행 수: 2399\n"
          ]
        }
      ]
    },
    {
      "cell_type": "code",
      "source": [
        "df.describe()"
      ],
      "metadata": {
        "colab": {
          "base_uri": "https://localhost:8080/",
          "height": 300
        },
        "id": "wVcXofEBmKn3",
        "outputId": "2cdc6c47-6e54-452b-cc26-f1cfb32b6e71"
      },
      "execution_count": null,
      "outputs": [
        {
          "output_type": "execute_result",
          "data": {
            "text/plain": [
              "                age        fnlwgt  education.num  capital.gain  capital.loss  \\\n",
              "count  32561.000000  3.256100e+04   32561.000000  32561.000000  32561.000000   \n",
              "mean      38.581647  1.897784e+05      10.080679   1077.648844     87.303830   \n",
              "std       13.640433  1.055500e+05       2.572720   7385.292085    402.960219   \n",
              "min       17.000000  1.228500e+04       1.000000      0.000000      0.000000   \n",
              "25%       28.000000  1.178270e+05       9.000000      0.000000      0.000000   \n",
              "50%       37.000000  1.783560e+05      10.000000      0.000000      0.000000   \n",
              "75%       48.000000  2.370510e+05      12.000000      0.000000      0.000000   \n",
              "max       90.000000  1.484705e+06      16.000000  99999.000000   4356.000000   \n",
              "\n",
              "       hours.per.week  \n",
              "count    32561.000000  \n",
              "mean        40.437456  \n",
              "std         12.347429  \n",
              "min          1.000000  \n",
              "25%         40.000000  \n",
              "50%         40.000000  \n",
              "75%         45.000000  \n",
              "max         99.000000  "
            ],
            "text/html": [
              "\n",
              "  <div id=\"df-af914e2e-ff28-4f0f-a6fb-2e6a5a024f1d\" class=\"colab-df-container\">\n",
              "    <div>\n",
              "<style scoped>\n",
              "    .dataframe tbody tr th:only-of-type {\n",
              "        vertical-align: middle;\n",
              "    }\n",
              "\n",
              "    .dataframe tbody tr th {\n",
              "        vertical-align: top;\n",
              "    }\n",
              "\n",
              "    .dataframe thead th {\n",
              "        text-align: right;\n",
              "    }\n",
              "</style>\n",
              "<table border=\"1\" class=\"dataframe\">\n",
              "  <thead>\n",
              "    <tr style=\"text-align: right;\">\n",
              "      <th></th>\n",
              "      <th>age</th>\n",
              "      <th>fnlwgt</th>\n",
              "      <th>education.num</th>\n",
              "      <th>capital.gain</th>\n",
              "      <th>capital.loss</th>\n",
              "      <th>hours.per.week</th>\n",
              "    </tr>\n",
              "  </thead>\n",
              "  <tbody>\n",
              "    <tr>\n",
              "      <th>count</th>\n",
              "      <td>32561.000000</td>\n",
              "      <td>3.256100e+04</td>\n",
              "      <td>32561.000000</td>\n",
              "      <td>32561.000000</td>\n",
              "      <td>32561.000000</td>\n",
              "      <td>32561.000000</td>\n",
              "    </tr>\n",
              "    <tr>\n",
              "      <th>mean</th>\n",
              "      <td>38.581647</td>\n",
              "      <td>1.897784e+05</td>\n",
              "      <td>10.080679</td>\n",
              "      <td>1077.648844</td>\n",
              "      <td>87.303830</td>\n",
              "      <td>40.437456</td>\n",
              "    </tr>\n",
              "    <tr>\n",
              "      <th>std</th>\n",
              "      <td>13.640433</td>\n",
              "      <td>1.055500e+05</td>\n",
              "      <td>2.572720</td>\n",
              "      <td>7385.292085</td>\n",
              "      <td>402.960219</td>\n",
              "      <td>12.347429</td>\n",
              "    </tr>\n",
              "    <tr>\n",
              "      <th>min</th>\n",
              "      <td>17.000000</td>\n",
              "      <td>1.228500e+04</td>\n",
              "      <td>1.000000</td>\n",
              "      <td>0.000000</td>\n",
              "      <td>0.000000</td>\n",
              "      <td>1.000000</td>\n",
              "    </tr>\n",
              "    <tr>\n",
              "      <th>25%</th>\n",
              "      <td>28.000000</td>\n",
              "      <td>1.178270e+05</td>\n",
              "      <td>9.000000</td>\n",
              "      <td>0.000000</td>\n",
              "      <td>0.000000</td>\n",
              "      <td>40.000000</td>\n",
              "    </tr>\n",
              "    <tr>\n",
              "      <th>50%</th>\n",
              "      <td>37.000000</td>\n",
              "      <td>1.783560e+05</td>\n",
              "      <td>10.000000</td>\n",
              "      <td>0.000000</td>\n",
              "      <td>0.000000</td>\n",
              "      <td>40.000000</td>\n",
              "    </tr>\n",
              "    <tr>\n",
              "      <th>75%</th>\n",
              "      <td>48.000000</td>\n",
              "      <td>2.370510e+05</td>\n",
              "      <td>12.000000</td>\n",
              "      <td>0.000000</td>\n",
              "      <td>0.000000</td>\n",
              "      <td>45.000000</td>\n",
              "    </tr>\n",
              "    <tr>\n",
              "      <th>max</th>\n",
              "      <td>90.000000</td>\n",
              "      <td>1.484705e+06</td>\n",
              "      <td>16.000000</td>\n",
              "      <td>99999.000000</td>\n",
              "      <td>4356.000000</td>\n",
              "      <td>99.000000</td>\n",
              "    </tr>\n",
              "  </tbody>\n",
              "</table>\n",
              "</div>\n",
              "    <div class=\"colab-df-buttons\">\n",
              "\n",
              "  <div class=\"colab-df-container\">\n",
              "    <button class=\"colab-df-convert\" onclick=\"convertToInteractive('df-af914e2e-ff28-4f0f-a6fb-2e6a5a024f1d')\"\n",
              "            title=\"Convert this dataframe to an interactive table.\"\n",
              "            style=\"display:none;\">\n",
              "\n",
              "  <svg xmlns=\"http://www.w3.org/2000/svg\" height=\"24px\" viewBox=\"0 -960 960 960\">\n",
              "    <path d=\"M120-120v-720h720v720H120Zm60-500h600v-160H180v160Zm220 220h160v-160H400v160Zm0 220h160v-160H400v160ZM180-400h160v-160H180v160Zm440 0h160v-160H620v160ZM180-180h160v-160H180v160Zm440 0h160v-160H620v160Z\"/>\n",
              "  </svg>\n",
              "    </button>\n",
              "\n",
              "  <style>\n",
              "    .colab-df-container {\n",
              "      display:flex;\n",
              "      gap: 12px;\n",
              "    }\n",
              "\n",
              "    .colab-df-convert {\n",
              "      background-color: #E8F0FE;\n",
              "      border: none;\n",
              "      border-radius: 50%;\n",
              "      cursor: pointer;\n",
              "      display: none;\n",
              "      fill: #1967D2;\n",
              "      height: 32px;\n",
              "      padding: 0 0 0 0;\n",
              "      width: 32px;\n",
              "    }\n",
              "\n",
              "    .colab-df-convert:hover {\n",
              "      background-color: #E2EBFA;\n",
              "      box-shadow: 0px 1px 2px rgba(60, 64, 67, 0.3), 0px 1px 3px 1px rgba(60, 64, 67, 0.15);\n",
              "      fill: #174EA6;\n",
              "    }\n",
              "\n",
              "    .colab-df-buttons div {\n",
              "      margin-bottom: 4px;\n",
              "    }\n",
              "\n",
              "    [theme=dark] .colab-df-convert {\n",
              "      background-color: #3B4455;\n",
              "      fill: #D2E3FC;\n",
              "    }\n",
              "\n",
              "    [theme=dark] .colab-df-convert:hover {\n",
              "      background-color: #434B5C;\n",
              "      box-shadow: 0px 1px 3px 1px rgba(0, 0, 0, 0.15);\n",
              "      filter: drop-shadow(0px 1px 2px rgba(0, 0, 0, 0.3));\n",
              "      fill: #FFFFFF;\n",
              "    }\n",
              "  </style>\n",
              "\n",
              "    <script>\n",
              "      const buttonEl =\n",
              "        document.querySelector('#df-af914e2e-ff28-4f0f-a6fb-2e6a5a024f1d button.colab-df-convert');\n",
              "      buttonEl.style.display =\n",
              "        google.colab.kernel.accessAllowed ? 'block' : 'none';\n",
              "\n",
              "      async function convertToInteractive(key) {\n",
              "        const element = document.querySelector('#df-af914e2e-ff28-4f0f-a6fb-2e6a5a024f1d');\n",
              "        const dataTable =\n",
              "          await google.colab.kernel.invokeFunction('convertToInteractive',\n",
              "                                                    [key], {});\n",
              "        if (!dataTable) return;\n",
              "\n",
              "        const docLinkHtml = 'Like what you see? Visit the ' +\n",
              "          '<a target=\"_blank\" href=https://colab.research.google.com/notebooks/data_table.ipynb>data table notebook</a>'\n",
              "          + ' to learn more about interactive tables.';\n",
              "        element.innerHTML = '';\n",
              "        dataTable['output_type'] = 'display_data';\n",
              "        await google.colab.output.renderOutput(dataTable, element);\n",
              "        const docLink = document.createElement('div');\n",
              "        docLink.innerHTML = docLinkHtml;\n",
              "        element.appendChild(docLink);\n",
              "      }\n",
              "    </script>\n",
              "  </div>\n",
              "\n",
              "\n",
              "<div id=\"df-590d109d-4122-4503-a516-a6fe78b2305c\">\n",
              "  <button class=\"colab-df-quickchart\" onclick=\"quickchart('df-590d109d-4122-4503-a516-a6fe78b2305c')\"\n",
              "            title=\"Suggest charts\"\n",
              "            style=\"display:none;\">\n",
              "\n",
              "<svg xmlns=\"http://www.w3.org/2000/svg\" height=\"24px\"viewBox=\"0 0 24 24\"\n",
              "     width=\"24px\">\n",
              "    <g>\n",
              "        <path d=\"M19 3H5c-1.1 0-2 .9-2 2v14c0 1.1.9 2 2 2h14c1.1 0 2-.9 2-2V5c0-1.1-.9-2-2-2zM9 17H7v-7h2v7zm4 0h-2V7h2v10zm4 0h-2v-4h2v4z\"/>\n",
              "    </g>\n",
              "</svg>\n",
              "  </button>\n",
              "\n",
              "<style>\n",
              "  .colab-df-quickchart {\n",
              "      --bg-color: #E8F0FE;\n",
              "      --fill-color: #1967D2;\n",
              "      --hover-bg-color: #E2EBFA;\n",
              "      --hover-fill-color: #174EA6;\n",
              "      --disabled-fill-color: #AAA;\n",
              "      --disabled-bg-color: #DDD;\n",
              "  }\n",
              "\n",
              "  [theme=dark] .colab-df-quickchart {\n",
              "      --bg-color: #3B4455;\n",
              "      --fill-color: #D2E3FC;\n",
              "      --hover-bg-color: #434B5C;\n",
              "      --hover-fill-color: #FFFFFF;\n",
              "      --disabled-bg-color: #3B4455;\n",
              "      --disabled-fill-color: #666;\n",
              "  }\n",
              "\n",
              "  .colab-df-quickchart {\n",
              "    background-color: var(--bg-color);\n",
              "    border: none;\n",
              "    border-radius: 50%;\n",
              "    cursor: pointer;\n",
              "    display: none;\n",
              "    fill: var(--fill-color);\n",
              "    height: 32px;\n",
              "    padding: 0;\n",
              "    width: 32px;\n",
              "  }\n",
              "\n",
              "  .colab-df-quickchart:hover {\n",
              "    background-color: var(--hover-bg-color);\n",
              "    box-shadow: 0 1px 2px rgba(60, 64, 67, 0.3), 0 1px 3px 1px rgba(60, 64, 67, 0.15);\n",
              "    fill: var(--button-hover-fill-color);\n",
              "  }\n",
              "\n",
              "  .colab-df-quickchart-complete:disabled,\n",
              "  .colab-df-quickchart-complete:disabled:hover {\n",
              "    background-color: var(--disabled-bg-color);\n",
              "    fill: var(--disabled-fill-color);\n",
              "    box-shadow: none;\n",
              "  }\n",
              "\n",
              "  .colab-df-spinner {\n",
              "    border: 2px solid var(--fill-color);\n",
              "    border-color: transparent;\n",
              "    border-bottom-color: var(--fill-color);\n",
              "    animation:\n",
              "      spin 1s steps(1) infinite;\n",
              "  }\n",
              "\n",
              "  @keyframes spin {\n",
              "    0% {\n",
              "      border-color: transparent;\n",
              "      border-bottom-color: var(--fill-color);\n",
              "      border-left-color: var(--fill-color);\n",
              "    }\n",
              "    20% {\n",
              "      border-color: transparent;\n",
              "      border-left-color: var(--fill-color);\n",
              "      border-top-color: var(--fill-color);\n",
              "    }\n",
              "    30% {\n",
              "      border-color: transparent;\n",
              "      border-left-color: var(--fill-color);\n",
              "      border-top-color: var(--fill-color);\n",
              "      border-right-color: var(--fill-color);\n",
              "    }\n",
              "    40% {\n",
              "      border-color: transparent;\n",
              "      border-right-color: var(--fill-color);\n",
              "      border-top-color: var(--fill-color);\n",
              "    }\n",
              "    60% {\n",
              "      border-color: transparent;\n",
              "      border-right-color: var(--fill-color);\n",
              "    }\n",
              "    80% {\n",
              "      border-color: transparent;\n",
              "      border-right-color: var(--fill-color);\n",
              "      border-bottom-color: var(--fill-color);\n",
              "    }\n",
              "    90% {\n",
              "      border-color: transparent;\n",
              "      border-bottom-color: var(--fill-color);\n",
              "    }\n",
              "  }\n",
              "</style>\n",
              "\n",
              "  <script>\n",
              "    async function quickchart(key) {\n",
              "      const quickchartButtonEl =\n",
              "        document.querySelector('#' + key + ' button');\n",
              "      quickchartButtonEl.disabled = true;  // To prevent multiple clicks.\n",
              "      quickchartButtonEl.classList.add('colab-df-spinner');\n",
              "      try {\n",
              "        const charts = await google.colab.kernel.invokeFunction(\n",
              "            'suggestCharts', [key], {});\n",
              "      } catch (error) {\n",
              "        console.error('Error during call to suggestCharts:', error);\n",
              "      }\n",
              "      quickchartButtonEl.classList.remove('colab-df-spinner');\n",
              "      quickchartButtonEl.classList.add('colab-df-quickchart-complete');\n",
              "    }\n",
              "    (() => {\n",
              "      let quickchartButtonEl =\n",
              "        document.querySelector('#df-590d109d-4122-4503-a516-a6fe78b2305c button');\n",
              "      quickchartButtonEl.style.display =\n",
              "        google.colab.kernel.accessAllowed ? 'block' : 'none';\n",
              "    })();\n",
              "  </script>\n",
              "</div>\n",
              "\n",
              "    </div>\n",
              "  </div>\n"
            ],
            "application/vnd.google.colaboratory.intrinsic+json": {
              "type": "dataframe",
              "summary": "{\n  \"name\": \"df\",\n  \"rows\": 8,\n  \"fields\": [\n    {\n      \"column\": \"age\",\n      \"properties\": {\n        \"dtype\": \"number\",\n        \"std\": 11498.327099385335,\n        \"min\": 13.640432553581118,\n        \"max\": 32561.0,\n        \"num_unique_values\": 8,\n        \"samples\": [\n          38.58164675532078,\n          37.0,\n          32561.0\n        ],\n        \"semantic_type\": \"\",\n        \"description\": \"\"\n      }\n    },\n    {\n      \"column\": \"fnlwgt\",\n      \"properties\": {\n        \"dtype\": \"number\",\n        \"std\": 486902.25279056706,\n        \"min\": 12285.0,\n        \"max\": 1484705.0,\n        \"num_unique_values\": 8,\n        \"samples\": [\n          189778.36651208502,\n          178356.0,\n          32561.0\n        ],\n        \"semantic_type\": \"\",\n        \"description\": \"\"\n      }\n    },\n    {\n      \"column\": \"education.num\",\n      \"properties\": {\n        \"dtype\": \"number\",\n        \"std\": 11508.989513934259,\n        \"min\": 1.0,\n        \"max\": 32561.0,\n        \"num_unique_values\": 8,\n        \"samples\": [\n          10.0806793403151,\n          10.0,\n          32561.0\n        ],\n        \"semantic_type\": \"\",\n        \"description\": \"\"\n      }\n    },\n    {\n      \"column\": \"capital.gain\",\n      \"properties\": {\n        \"dtype\": \"number\",\n        \"std\": 35111.63595222633,\n        \"min\": 0.0,\n        \"max\": 99999.0,\n        \"num_unique_values\": 5,\n        \"samples\": [\n          1077.6488437087312,\n          99999.0,\n          7385.292084836109\n        ],\n        \"semantic_type\": \"\",\n        \"description\": \"\"\n      }\n    },\n    {\n      \"column\": \"capital.loss\",\n      \"properties\": {\n        \"dtype\": \"number\",\n        \"std\": 11366.935322921136,\n        \"min\": 0.0,\n        \"max\": 32561.0,\n        \"num_unique_values\": 5,\n        \"samples\": [\n          87.303829734959,\n          4356.0,\n          402.9602186495174\n        ],\n        \"semantic_type\": \"\",\n        \"description\": \"\"\n      }\n    },\n    {\n      \"column\": \"hours.per.week\",\n      \"properties\": {\n        \"dtype\": \"number\",\n        \"std\": 11498.057671750135,\n        \"min\": 1.0,\n        \"max\": 32561.0,\n        \"num_unique_values\": 7,\n        \"samples\": [\n          32561.0,\n          40.437455852092995,\n          45.0\n        ],\n        \"semantic_type\": \"\",\n        \"description\": \"\"\n      }\n    }\n  ]\n}"
            }
          },
          "metadata": {},
          "execution_count": 3
        }
      ]
    },
    {
      "cell_type": "markdown",
      "source": [
        "#### 4.1 데이터 분할"
      ],
      "metadata": {
        "id": "NBP7DF7nPfIx"
      }
    },
    {
      "cell_type": "markdown",
      "source": [
        "Encoding target variable using LabelEncoder"
      ],
      "metadata": {
        "id": "hEJQ3VwsWtKw"
      }
    },
    {
      "cell_type": "code",
      "source": [
        "df['income'] = df['income'].str.strip()  # remove trailing space or dot\n",
        "le = LabelEncoder()\n",
        "df['income'] = le.fit_transform(df['income'])  # '<=50K' → 0, '>50K' → 1\n",
        "\n",
        "print(\"Target classes:\", list(le.classes_))\n",
        "print(\"\\nEncoded class distribution:\")\n",
        "print(df['income'].value_counts())"
      ],
      "metadata": {
        "colab": {
          "base_uri": "https://localhost:8080/"
        },
        "id": "e56KzC8WWVqT",
        "outputId": "766c769c-ea6e-41c3-edb4-3f6074dfbcb0"
      },
      "execution_count": null,
      "outputs": [
        {
          "output_type": "stream",
          "name": "stdout",
          "text": [
            "Target classes: ['<=50K', '>50K']\n",
            "\n",
            "Encoded class distribution:\n",
            "income\n",
            "0    24720\n",
            "1     7841\n",
            "Name: count, dtype: int64\n"
          ]
        }
      ]
    },
    {
      "cell_type": "markdown",
      "source": [
        "Splitting into train and test (stratify by income)"
      ],
      "metadata": {
        "id": "SP-H5bc6Wph6"
      }
    },
    {
      "cell_type": "code",
      "source": [
        "X = df.drop('income', axis=1)\n",
        "y = df['income']\n",
        "X_train, X_test, y_train, y_test = train_test_split(\n",
        "    X, y, test_size=0.2, random_state=42, stratify=y\n",
        ")\n",
        "\n",
        "print(\"Train class distribution:\")\n",
        "print(y_train.value_counts(normalize=True))\n",
        "print(\"\\nTest class distribution:\")\n",
        "print(y_test.value_counts(normalize=True))"
      ],
      "metadata": {
        "colab": {
          "base_uri": "https://localhost:8080/"
        },
        "id": "2d6IkN1sWdLr",
        "outputId": "d0ea0b7d-c518-40d1-df4d-ac0cba80e243"
      },
      "execution_count": null,
      "outputs": [
        {
          "output_type": "stream",
          "name": "stdout",
          "text": [
            "Train class distribution:\n",
            "income\n",
            "0    0.759175\n",
            "1    0.240825\n",
            "Name: proportion, dtype: float64\n",
            "\n",
            "Test class distribution:\n",
            "income\n",
            "0    0.759251\n",
            "1    0.240749\n",
            "Name: proportion, dtype: float64\n"
          ]
        }
      ]
    },
    {
      "cell_type": "markdown",
      "source": [
        "#### 4.2 결측치 처리"
      ],
      "metadata": {
        "id": "JzF2RymmPkwY"
      }
    },
    {
      "cell_type": "markdown",
      "source": [
        "(1) Dropping missing values (결측치 제거 방식)"
      ],
      "metadata": {
        "id": "xI-ssUIlXeiH"
      }
    },
    {
      "cell_type": "code",
      "source": [
        "# DROP 방식 전처리\n",
        "train_df = pd.concat([X_train, y_train], axis=1).dropna()\n",
        "test_df = pd.concat([X_test, y_test], axis=1).dropna()\n",
        "print(f\"After drop - Train: {train_df.shape}, Test: {test_df.shape}\")\n",
        "\n",
        "X_train_drop = train_df.drop('income', axis=1)\n",
        "y_train_drop = train_df['income']\n",
        "X_test_drop = test_df.drop('income', axis=1)\n",
        "y_test_drop = test_df['income']\n",
        "\n",
        "print(f\"After drop - Train: {X_train_drop.shape}, Test: {X_test_drop.shape}\")"
      ],
      "metadata": {
        "colab": {
          "base_uri": "https://localhost:8080/"
        },
        "id": "UU3D4gepP1MD",
        "outputId": "ba222444-18b9-4524-e021-ed858459d894"
      },
      "execution_count": null,
      "outputs": [
        {
          "output_type": "stream",
          "name": "stdout",
          "text": [
            "After drop - Train: (24148, 15), Test: (6014, 15)\n",
            "After drop - Train: (24148, 14), Test: (6014, 14)\n"
          ]
        }
      ]
    },
    {
      "cell_type": "markdown",
      "source": [
        "(2) 결측치 대체 방식\n",
        "\n",
        "• 숫자형 변수는 평균(mean)으로, 범주형 변수는 최빈값(mode)으로 결측치를\n",
        "대체합니다.\n",
        "\n",
        "• drop과 impute 방식에서 최종 데이터 크기 차이를 비교하고 간단히 분석\n",
        "합니다."
      ],
      "metadata": {
        "id": "F9ssJnyfchtJ"
      }
    },
    {
      "cell_type": "code",
      "source": [
        "# IMPUTE 방식 전처리\n",
        "\n",
        "# 숫자형, 범주형 변수 구분\n",
        "X_train_cat = X_train.select_dtypes(include='object') # category\n",
        "X_train_num = X_train.select_dtypes(include=['int64', 'float64']) # numeric\n",
        "\n",
        "## exclude='object'\n",
        "\n",
        "# 숫자형 → 평균(mean), 범주형 → 최빈값(mode)으로 Imputer 설정\n",
        "cat_imputer = SimpleImputer(strategy='most_frequent')\n",
        "num_imputer = SimpleImputer(strategy='mean')\n",
        "\n",
        "# 훈련 데이터, fit_transform\n",
        "X_train_cat_imp = pd.DataFrame(cat_imputer.fit_transform(X_train_cat), columns=X_train_cat.columns)\n",
        "X_train_num_imp = pd.DataFrame(num_imputer.fit_transform(X_train_num), columns=X_train_num.columns)\n",
        "\n",
        "# 숫자형과 범주형 데이터 합치기\n",
        "X_train_imp = pd.concat([X_train_cat_imp, X_train_num_imp], axis=1)"
      ],
      "metadata": {
        "id": "6HKPC5kWgL3w"
      },
      "execution_count": null,
      "outputs": []
    },
    {
      "cell_type": "code",
      "source": [
        "# 숫자형, 범주형 변수 구분\n",
        "X_test_cat = X_test.select_dtypes(include='object')\n",
        "X_test_num = X_test.select_dtypes(include=['int64', 'float64'])\n",
        "\n",
        "# 테스트 데이터에는 transform만 적용\n",
        "X_test_cat_imp = pd.DataFrame(cat_imputer.transform(X_test_cat), columns=X_test_cat.columns)\n",
        "X_test_num_imp = pd.DataFrame(num_imputer.transform(X_test_num), columns=X_test_num.columns)\n",
        "\n",
        "# 숫자형과 범주형 데이터 합치기\n",
        "X_test_imp = pd.concat([X_test_cat_imp, X_test_num_imp], axis=1)\n",
        "\n",
        "# impute 라벨은 drop하지 않은 원본 사용해야 해서 따로 처리\n",
        "y_train_imp = y_train.reset_index(drop=True)\n",
        "y_test_imp = y_test.reset_index(drop=True)"
      ],
      "metadata": {
        "id": "TpgrVOkMe6Us"
      },
      "execution_count": null,
      "outputs": []
    },
    {
      "cell_type": "code",
      "source": [
        "print(f\"After impute - Train: {X_train_imp.shape}, Test: {X_test_imp.shape}\")\n",
        "\n",
        "drop_train_size = X_train_drop.shape[0]\n",
        "impute_train_size = X_train_imp.shape[0]\n",
        "drop_test_size = X_test_drop.shape[0]\n",
        "impute_test_size = X_test_imp.shape[0]\n",
        "\n",
        "print(f\"Train 데이터에서 drop 방식은 전체 중 {(1 - drop_train_size / impute_train_size) * 100:.2f}% 의 데이터가 손실됨.\")\n",
        "print(f\"Test 데이터에서 drop 방식은 전체 중 {(1 - drop_test_size / impute_test_size) * 100:.2f}% 의 데이터가 손실됨.\")"
      ],
      "metadata": {
        "colab": {
          "base_uri": "https://localhost:8080/"
        },
        "id": "Ey6NlhzHe8Yz",
        "outputId": "85961f9a-bbda-4295-ec8a-5f5efbb1a002"
      },
      "execution_count": null,
      "outputs": [
        {
          "output_type": "stream",
          "name": "stdout",
          "text": [
            "After impute - Train: (26048, 14), Test: (6513, 14)\n",
            "Train 데이터에서 drop 방식은 전체 중 7.29% 의 데이터가 손실됨.\n",
            "Test 데이터에서 drop 방식은 전체 중 7.66% 의 데이터가 손실됨.\n"
          ]
        }
      ]
    },
    {
      "cell_type": "markdown",
      "source": [
        "#### One-Hot Encoding 적용"
      ],
      "metadata": {
        "id": "G6fOAyyNPnWl"
      }
    },
    {
      "cell_type": "markdown",
      "source": [
        "4-3. One-Hot Encoding categorical variables (Droped Data)"
      ],
      "metadata": {
        "id": "NBtcQspEYLYw"
      }
    },
    {
      "cell_type": "code",
      "source": [
        "cat_cols = X_train_drop.select_dtypes(include='object').columns\n",
        "num_cols = X_train_drop.select_dtypes(exclude='object').columns\n",
        "\n",
        "encoder_drop = OneHotEncoder(handle_unknown='ignore', sparse_output=False)\n",
        "encoder_drop.fit(X_train_drop[cat_cols]) # 훈련 데이터에만 fit\n",
        "\n",
        "# 범주형 → 문자열을 수치로 인코딩해야 모델이 학습 가능\n",
        "X_train_drop_cat = encoder_drop.transform(X_train_drop[cat_cols])\n",
        "X_test_drop_cat = encoder_drop.transform(X_test_drop[cat_cols])  # 테스트는 transform만\n",
        "\n",
        "# 숫자형 → 이미 숫자이므로 추가 변환 없이 배열로만 바꿔줌\n",
        "X_train_drop_num = X_train_drop[num_cols].values # X_train_drop[num_cols] → 숫자형 컬럼들만 선택한 DataFrame\n",
        "X_test_drop_num = X_test_drop[num_cols].values #.values → DataFrame을 NumPy 배열 (ndarray) 로 변환\n",
        "\n",
        "X_train_drop_final = np.hstack([X_train_drop_num, X_train_drop_cat])\n",
        "X_test_drop_final = np.hstack([X_test_drop_num, X_test_drop_cat])\n",
        "\n",
        "print(f\"Final feature shape - Train: {X_train_drop_final.shape}, Test: {X_test_drop_final.shape}\")"
      ],
      "metadata": {
        "colab": {
          "base_uri": "https://localhost:8080/"
        },
        "id": "odyXkK-yPrGk",
        "outputId": "0073f5be-dee8-4745-a87b-9905f53301a5"
      },
      "execution_count": null,
      "outputs": [
        {
          "output_type": "stream",
          "name": "stdout",
          "text": [
            "Final feature shape - Train: (24148, 103), Test: (6014, 103)\n"
          ]
        }
      ]
    },
    {
      "cell_type": "markdown",
      "source": [
        "4-3. One-Hot Encoding categorical variables (Imputed Data)"
      ],
      "metadata": {
        "id": "Bq0VBSp4qJ43"
      }
    },
    {
      "cell_type": "code",
      "source": [
        "cat_cols = X_train_cat_imp.columns\n",
        "num_cols = X_train_num_imp.columns\n",
        "\n",
        "encoder_imp = OneHotEncoder(handle_unknown='ignore', sparse_output=False)\n",
        "encoder_imp.fit(X_train_imp[cat_cols])\n",
        "\n",
        "X_train_imp_cat = encoder_imp.transform(X_train_imp[cat_cols])\n",
        "X_test_imp_cat = encoder_imp.transform(X_test_imp[cat_cols])\n",
        "\n",
        "X_train_imp_num = X_train_imp[num_cols].values\n",
        "X_test_imp_num = X_test_imp[num_cols].values\n",
        "\n",
        "\n",
        "X_train_imp_final = np.hstack([X_train_imp_num, X_train_imp_cat])\n",
        "X_test_imp_final = np.hstack([X_test_imp_num, X_test_imp_cat])\n",
        "#오류: One-Hot Encoding 이후 열 개수가 왜 늘어나는지??\n",
        "\n",
        "print(f\"Final feature shape - Train: {X_train_imp_final.shape}, Test: {X_test_imp_final.shape}\")"
      ],
      "metadata": {
        "colab": {
          "base_uri": "https://localhost:8080/"
        },
        "id": "ved1thoOqOwX",
        "outputId": "6ffe3199-9cbe-4b26-d224-f121ff263b65"
      },
      "execution_count": null,
      "outputs": [
        {
          "output_type": "stream",
          "name": "stdout",
          "text": [
            "Final feature shape - Train: (26048, 104), Test: (6513, 104)\n"
          ]
        }
      ]
    },
    {
      "cell_type": "markdown",
      "source": [
        "Scaling all features..."
      ],
      "metadata": {
        "id": "TZrTtS4oYYXg"
      }
    },
    {
      "cell_type": "code",
      "source": [
        "scaler = StandardScaler()\n",
        "scaler.fit(X_train_imp_final)\n",
        "X_train_scaled = scaler.transform(X_train_imp_final)\n",
        "X_test_scaled = scaler.transform(X_test_imp_final)\n",
        "\n",
        "print(\"Scaling complete.\")"
      ],
      "metadata": {
        "id": "2daOWkJaYUtQ",
        "colab": {
          "base_uri": "https://localhost:8080/"
        },
        "outputId": "049459bb-5960-4817-f94c-87150e47503a"
      },
      "execution_count": null,
      "outputs": [
        {
          "output_type": "stream",
          "name": "stdout",
          "text": [
            "Scaling complete.\n"
          ]
        }
      ]
    },
    {
      "cell_type": "markdown",
      "source": [
        "#### 분류 모델 학습"
      ],
      "metadata": {
        "id": "B2fb69ZrPsHJ"
      }
    },
    {
      "cell_type": "markdown",
      "source": [
        "4.4 Training Logistic Regression"
      ],
      "metadata": {
        "id": "763gAmgOYboI"
      }
    },
    {
      "cell_type": "code",
      "source": [
        "from sklearn.svm import SVC\n",
        "\n",
        "# Drop 방식 - Logistic Regression\n",
        "lr_drop_model = LogisticRegression(max_iter=1000)\n",
        "lr_drop_model.fit(X_train_drop_final, y_train_drop)\n",
        "\n",
        "# Drop 방식 - SVM (RBF kernel)\n",
        "svm_drop_model = SVC(kernel='rbf')\n",
        "svm_drop_model.fit(X_train_drop_final, y_train_drop)\n",
        "\n",
        "# Impute 방식 - Logistic Regression\n",
        "lr_imp_model = LogisticRegression(max_iter=1000)\n",
        "lr_imp_model.fit(X_train_scaled, y_train_imp)\n",
        "\n",
        "# Impute 방식 - SVM (RBF kernel)\n",
        "svm_imp_model = SVC(kernel='rbf')\n",
        "svm_imp_model.fit(X_train_scaled, y_train_imp)\n",
        "\n",
        "\n",
        "print(\"Training complete.\")"
      ],
      "metadata": {
        "id": "eSt4IlhQPu3B",
        "colab": {
          "base_uri": "https://localhost:8080/"
        },
        "outputId": "fb430a87-64ad-4e65-df5f-d5d6a20bb64a"
      },
      "execution_count": null,
      "outputs": [
        {
          "output_type": "stream",
          "name": "stderr",
          "text": [
            "/usr/local/lib/python3.11/dist-packages/sklearn/linear_model/_logistic.py:465: ConvergenceWarning: lbfgs failed to converge (status=1):\n",
            "STOP: TOTAL NO. of ITERATIONS REACHED LIMIT.\n",
            "\n",
            "Increase the number of iterations (max_iter) or scale the data as shown in:\n",
            "    https://scikit-learn.org/stable/modules/preprocessing.html\n",
            "Please also refer to the documentation for alternative solver options:\n",
            "    https://scikit-learn.org/stable/modules/linear_model.html#logistic-regression\n",
            "  n_iter_i = _check_optimize_result(\n"
          ]
        },
        {
          "output_type": "stream",
          "name": "stdout",
          "text": [
            "Training complete.\n"
          ]
        }
      ]
    },
    {
      "cell_type": "markdown",
      "source": [
        "#### 성능 평가 및 비교"
      ],
      "metadata": {
        "id": "bn6yww55P1wR"
      }
    },
    {
      "cell_type": "markdown",
      "source": [
        "4.5 Evaluating on test set"
      ],
      "metadata": {
        "id": "ocRHpJ9hmary"
      }
    },
    {
      "cell_type": "code",
      "source": [
        "# Drop 방식 - Logistic Regression\n",
        "lr_drop_predict = lr_drop_model.predict(X_test_drop_final)\n",
        "\n",
        "lr_drop_acc = accuracy_score(y_test_drop, lr_drop_predict)\n",
        "print(\"\\n[Drop 방식 - Logistic Regression 결과]\")\n",
        "print(f\"Accuracy: {lr_drop_acc:.4f}\")\n",
        "print(classification_report(y_test_drop,lr_drop_predict))\n",
        "\n",
        "\n",
        "svm_drop_predict = svm_drop_model.predict(X_test_drop_final)\n",
        "\n",
        "svm_drop_acc = accuracy_score(y_test_drop, svm_drop_predict)\n",
        "print(\"\\n[Drop 방식 - SVM (RBF) 결과]\")\n",
        "print(f\"Accuracy: {svm_drop_acc:.4f}\")\n",
        "print(classification_report(y_test_drop, svm_drop_predict))\n",
        "\n",
        "\n",
        "lr_imp_predict = lr_imp_model.predict(X_test_scaled)\n",
        "\n",
        "print(\"\\n[Impute 방식 - Logistic Regression 결과]\")\n",
        "print(\"Accuracy:\", accuracy_score(y_test, lr_imp_predict))\n",
        "print(classification_report(y_test, lr_imp_predict))\n",
        "\n",
        "\n",
        "svm_imp_predict = svm_imp_model.predict(X_test_scaled)\n",
        "\n",
        "print(\"\\n[Impute 방식 - SVM (RBF) 결과]\")\n",
        "print(\"Accuracy:\", accuracy_score(y_test, svm_imp_predict))\n",
        "print(classification_report(y_test, svm_imp_predict))"
      ],
      "metadata": {
        "id": "eUZTG1DqmCBe",
        "colab": {
          "base_uri": "https://localhost:8080/"
        },
        "outputId": "71d5e7f5-af57-4c68-8777-6a2dd1594cca"
      },
      "execution_count": null,
      "outputs": [
        {
          "output_type": "stream",
          "name": "stdout",
          "text": [
            "\n",
            "[Drop 방식 - Logistic Regression 결과]\n",
            "Accuracy: 0.8395\n",
            "              precision    recall  f1-score   support\n",
            "\n",
            "           0       0.87      0.93      0.90      4510\n",
            "           1       0.73      0.57      0.64      1504\n",
            "\n",
            "    accuracy                           0.84      6014\n",
            "   macro avg       0.80      0.75      0.77      6014\n",
            "weighted avg       0.83      0.84      0.83      6014\n",
            "\n",
            "\n",
            "[Drop 방식 - SVM (RBF) 결과]\n",
            "Accuracy: 0.7850\n",
            "              precision    recall  f1-score   support\n",
            "\n",
            "           0       0.78      1.00      0.87      4510\n",
            "           1       0.98      0.14      0.25      1504\n",
            "\n",
            "    accuracy                           0.79      6014\n",
            "   macro avg       0.88      0.57      0.56      6014\n",
            "weighted avg       0.83      0.79      0.72      6014\n",
            "\n",
            "\n",
            "[Impute 방식 - Logistic Regression 결과]\n",
            "Accuracy: 0.8516812528788577\n",
            "              precision    recall  f1-score   support\n",
            "\n",
            "           0       0.88      0.93      0.91      4945\n",
            "           1       0.74      0.60      0.66      1568\n",
            "\n",
            "    accuracy                           0.85      6513\n",
            "   macro avg       0.81      0.77      0.78      6513\n",
            "weighted avg       0.85      0.85      0.85      6513\n",
            "\n",
            "\n",
            "[Impute 방식 - SVM (RBF) 결과]\n",
            "Accuracy: 0.846307385229541\n",
            "              precision    recall  f1-score   support\n",
            "\n",
            "           0       0.87      0.94      0.90      4945\n",
            "           1       0.74      0.56      0.64      1568\n",
            "\n",
            "    accuracy                           0.85      6513\n",
            "   macro avg       0.80      0.75      0.77      6513\n",
            "weighted avg       0.84      0.85      0.84      6513\n",
            "\n"
          ]
        }
      ]
    }
  ]
}