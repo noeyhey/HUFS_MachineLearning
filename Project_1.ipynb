{
  "nbformat": 4,
  "nbformat_minor": 0,
  "metadata": {
    "colab": {
      "provenance": [],
      "gpuType": "T4",
      "include_colab_link": true
    },
    "kernelspec": {
      "name": "python3",
      "display_name": "Python 3"
    },
    "language_info": {
      "name": "python"
    }
  },
  "cells": [
    {
      "cell_type": "markdown",
      "metadata": {
        "id": "view-in-github",
        "colab_type": "text"
      },
      "source": [
        "<a href=\"https://colab.research.google.com/github/noeyhey/HUFS_MachineLearning/blob/main/Project_1.ipynb\" target=\"_parent\"><img src=\"https://colab.research.google.com/assets/colab-badge.svg\" alt=\"Open In Colab\"/></a>"
      ]
    },
    {
      "cell_type": "markdown",
      "source": [
        "**Project#1. Adult Income 데이터를 활용한 전처리 및 분류 모델 비교**"
      ],
      "metadata": {
        "id": "gK5AWnN_PW0T"
      }
    },
    {
      "cell_type": "markdown",
      "source": [
        "#### 데이터 불러오기"
      ],
      "metadata": {
        "id": "cLYOqFSmP8ob"
      }
    },
    {
      "cell_type": "code",
      "source": [
        "import pandas as pd\n",
        "import numpy as np\n",
        "from sklearn.impute import SimpleImputer\n",
        "from sklearn.model_selection import train_test_split\n",
        "from sklearn.preprocessing import OneHotEncoder, StandardScaler, LabelEncoder\n",
        "from sklearn.linear_model import LogisticRegression\n",
        "from sklearn.metrics import accuracy_score, classification_report"
      ],
      "metadata": {
        "id": "AcwhFYZpSMQT"
      },
      "execution_count": null,
      "outputs": []
    },
    {
      "cell_type": "markdown",
      "source": [
        "Loading original data..."
      ],
      "metadata": {
        "id": "MaRJOecQWxWv"
      }
    },
    {
      "cell_type": "code",
      "source": [
        "from google.colab import drive\n",
        "drive.mount('/content/gdrive')\n",
        "\n",
        "filepath = '/content/gdrive/MyDrive/adult.csv'\n",
        "df = pd.read_csv(filepath)\n",
        "df.replace('?', np.nan, inplace=True)\n",
        "print(f\"Original data shape: {df.shape}\")\n",
        "print(f\"결측치가 포함된 행 수: {df.isnull().any(axis=1).sum()}\")"
      ],
      "metadata": {
        "colab": {
          "base_uri": "https://localhost:8080/"
        },
        "id": "T-DFIMZgP8PO",
        "outputId": "bc870b26-9fbc-47e1-8c7c-2baca65a1aea"
      },
      "execution_count": null,
      "outputs": [
        {
          "output_type": "stream",
          "name": "stdout",
          "text": [
            "Mounted at /content/gdrive\n",
            "Original data shape: (32561, 15)\n",
            "결측치가 포함된 행 수: 2399\n"
          ]
        }
      ]
    },
    {
      "cell_type": "code",
      "source": [
        "df.describe()"
      ],
      "metadata": {
        "colab": {
          "base_uri": "https://localhost:8080/",
          "height": 300
        },
        "id": "wVcXofEBmKn3",
        "outputId": "2cdc6c47-6e54-452b-cc26-f1cfb32b6e71"
      },
      "execution_count": null,
      "outputs": [
        {
          "output_type": "execute_result",
          "data": {
            "text/plain": [
              "                age        fnlwgt  education.num  capital.gain  capital.loss  \\\n",
              "count  32561.000000  3.256100e+04   32561.000000  32561.000000  32561.000000   \n",
              "mean      38.581647  1.897784e+05      10.080679   1077.648844     87.303830   \n",
              "std       13.640433  1.055500e+05       2.572720   7385.292085    402.960219   \n",
              "min       17.000000  1.228500e+04       1.000000      0.000000      0.000000   \n",
              "25%       28.000000  1.178270e+05       9.000000      0.000000      0.000000   \n",
              "50%       37.000000  1.783560e+05      10.000000      0.000000      0.000000   \n",
              "75%       48.000000  2.370510e+05      12.000000      0.000000      0.000000   \n",
              "max       90.000000  1.484705e+06      16.000000  99999.000000   4356.000000   \n",
              "\n",
              "       hours.per.week  \n",
              "count    32561.000000  \n",
              "mean        40.437456  \n",
              "std         12.347429  \n",
              "min          1.000000  \n",
              "25%         40.000000  \n",
              "50%         40.000000  \n",
              "75%         45.000000  \n",
              "max         99.000000  "
            ],
            "text/html": [
              "\n",
              "  <div id=\"df-af914e2e-ff28-4f0f-a6fb-2e6a5a024f1d\" class=\"colab-df-container\">\n",
              "    <div>\n",
              "<style scoped>\n",
              "    .dataframe tbody tr th:only-of-type {\n",
              "        vertical-align: middle;\n",
              "    }\n",
              "\n",
              "    .dataframe tbody tr th {\n",
              "        vertical-align: top;\n",
              "    }\n",
              "\n",
              "    .dataframe thead th {\n",
              "        text-align: right;\n",
              "    }\n",
              "</style>\n",
              "<table border=\"1\" class=\"dataframe\">\n",
              "  <thead>\n",
              "    <tr style=\"text-align: right;\">\n",
              "      <th></th>\n",
              "      <th>age</th>\n",
              "      <th>fnlwgt</th>\n",
              "      <th>education.num</th>\n",
              "      <th>capital.gain</th>\n",
              "      <th>capital.loss</th>\n",
              "      <th>hours.per.week</th>\n",
              "    </tr>\n",
              "  </thead>\n",
              "  <tbody>\n",
              "    <tr>\n",
              "      <th>count</th>\n",
              "      <td>32561.000000</td>\n",
              "      <td>3.256100e+04</td>\n",
              "      <td>32561.000000</td>\n",
              "      <td>32561.000000</td>\n",
              "      <td>32561.000000</td>\n",
              "      <td>32561.000000</td>\n",
              "    </tr>\n",
              "    <tr>\n",
              "      <th>mean</th>\n",
              "      <td>38.581647</td>\n",
              "      <td>1.897784e+05</td>\n",
              "      <td>10.080679</td>\n",
              "      <td>1077.648844</td>\n",
              "      <td>87.303830</td>\n",
              "      <td>40.437456</td>\n",
              "    </tr>\n",
              "    <tr>\n",
              "      <th>std</th>\n",
              "      <td>13.640433</td>\n",
              "      <td>1.055500e+05</td>\n",
              "      <td>2.572720</td>\n",
              "      <td>7385.292085</td>\n",
              "      <td>402.960219</td>\n",
              "      <td>12.347429</td>\n",
              "    </tr>\n",
              "    <tr>\n",
              "      <th>min</th>\n",
              "      <td>17.000000</td>\n",
              "      <td>1.228500e+04</td>\n",
              "      <td>1.000000</td>\n",
              "      <td>0.000000</td>\n",
              "      <td>0.000000</td>\n",
              "      <td>1.000000</td>\n",
              "    </tr>\n",
              "    <tr>\n",
              "      <th>25%</th>\n",
              "      <td>28.000000</td>\n",
              "      <td>1.178270e+05</td>\n",
              "      <td>9.000000</td>\n",
              "      <td>0.000000</td>\n",
              "      <td>0.000000</td>\n",
              "      <td>40.000000</td>\n",
              "    </tr>\n",
              "    <tr>\n",
              "      <th>50%</th>\n",
              "      <td>37.000000</td>\n",
              "      <td>1.783560e+05</td>\n",
              "      <td>10.000000</td>\n",
              "      <td>0.000000</td>\n",
              "      <td>0.000000</td>\n",
              "      <td>40.000000</td>\n",
              "    </tr>\n",
              "    <tr>\n",
              "      <th>75%</th>\n",
              "      <td>48.000000</td>\n",
              "      <td>2.370510e+05</td>\n",
              "      <td>12.000000</td>\n",
              "      <td>0.000000</td>\n",
              "      <td>0.000000</td>\n",
              "      <td>45.000000</td>\n",
              "    </tr>\n",
              "    <tr>\n",
              "      <th>max</th>\n",
              "      <td>90.000000</td>\n",
              "      <td>1.484705e+06</td>\n",
              "      <td>16.000000</td>\n",
              "      <td>99999.000000</td>\n",
              "      <td>4356.000000</td>\n",
              "      <td>99.000000</td>\n",
              "    </tr>\n",
              "  </tbody>\n",
              "</table>\n",
              "</div>\n",
              "    <div class=\"colab-df-buttons\">\n",
              "\n",
              "  <div class=\"colab-df-container\">\n",
              "    <button class=\"colab-df-convert\" onclick=\"convertToInteractive('df-af914e2e-ff28-4f0f-a6fb-2e6a5a024f1d')\"\n",
              "            title=\"Convert this dataframe to an interactive table.\"\n",
              "            style=\"display:none;\">\n",
              "\n",
              "  <svg xmlns=\"http://www.w3.org/2000/svg\" height=\"24px\" viewBox=\"0 -960 960 960\">\n",
              "    <path d=\"M120-120v-720h720v720H120Zm60-500h600v-160H180v160Zm220 220h160v-160H400v160Zm0 220h160v-160H400v160ZM180-400h160v-160H180v160Zm440 0h160v-160H620v160ZM180-180h160v-160H180v160Zm440 0h160v-160H620v160Z\"/>\n",
              "  </svg>\n",
              "    </button>\n",
              "\n",
              "  <style>\n",
              "    .colab-df-container {\n",
              "      display:flex;\n",
              "      gap: 12px;\n",
              "    }\n",
              "\n",
              "    .colab-df-convert {\n",
              "      background-color: #E8F0FE;\n",
              "      border: none;\n",
              "      border-radius: 50%;\n",
              "      cursor: pointer;\n",
              "      display: none;\n",
              "      fill: #1967D2;\n",
              "      height: 32px;\n",
              "      padding: 0 0 0 0;\n",
              "      width: 32px;\n",
              "    }\n",
              "\n",
              "    .colab-df-convert:hover {\n",
              "      background-color: #E2EBFA;\n",
              "      box-shadow: 0px 1px 2px rgba(60, 64, 67, 0.3), 0px 1px 3px 1px rgba(60, 64, 67, 0.15);\n",
              "      fill: #174EA6;\n",
              "    }\n",
              "\n",
              "    .colab-df-buttons div {\n",
              "      margin-bottom: 4px;\n",
              "    }\n",
              "\n",
              "    [theme=dark] .colab-df-convert {\n",
              "      background-color: #3B4455;\n",
              "      fill: #D2E3FC;\n",
              "    }\n",
              "\n",
              "    [theme=dark] .colab-df-convert:hover {\n",
              "      background-color: #434B5C;\n",
              "      box-shadow: 0px 1px 3px 1px rgba(0, 0, 0, 0.15);\n",
              "      filter: drop-shadow(0px 1px 2px rgba(0, 0, 0, 0.3));\n",
              "      fill: #FFFFFF;\n",
              "    }\n",
              "  </style>\n",
              "\n",
              "    <script>\n",
              "      const buttonEl =\n",
              "        document.querySelector('#df-af914e2e-ff28-4f0f-a6fb-2e6a5a024f1d button.colab-df-convert');\n",
              "      buttonEl.style.display =\n",
              "        google.colab.kernel.accessAllowed ? 'block' : 'none';\n",
              "\n",
              "      async function convertToInteractive(key) {\n",
              "        const element = document.querySelector('#df-af914e2e-ff28-4f0f-a6fb-2e6a5a024f1d');\n",
              "        const dataTable =\n",
              "          await google.colab.kernel.invokeFunction('convertToInteractive',\n",
              "                                                    [key], {});\n",
              "        if (!dataTable) return;\n",
              "\n",
              "        const docLinkHtml = 'Like what you see? Visit the ' +\n",
              "          '<a target=\"_blank\" href=https://colab.research.google.com/notebooks/data_table.ipynb>data table notebook</a>'\n",
              "          + ' to learn more about interactive tables.';\n",
              "        element.innerHTML = '';\n",
              "        dataTable['output_type'] = 'display_data';\n",
              "        await google.colab.output.renderOutput(dataTable, element);\n",
              "        const docLink = document.createElement('div');\n",
              "        docLink.innerHTML = docLinkHtml;\n",
              "        element.appendChild(docLink);\n",
              "      }\n",
              "    </script>\n",
              "  </div>\n",
              "\n",
              "\n",
              "<div id=\"df-590d109d-4122-4503-a516-a6fe78b2305c\">\n",
              "  <button class=\"colab-df-quickchart\" onclick=\"quickchart('df-590d109d-4122-4503-a516-a6fe78b2305c')\"\n",
              "            title=\"Suggest charts\"\n",
              "            style=\"display:none;\">\n",
              "\n",
              "<svg xmlns=\"http://www.w3.org/2000/svg\" height=\"24px\"viewBox=\"0 0 24 24\"\n",
              "     width=\"24px\">\n",
              "    <g>\n",
              "        <path d=\"M19 3H5c-1.1 0-2 .9-2 2v14c0 1.1.9 2 2 2h14c1.1 0 2-.9 2-2V5c0-1.1-.9-2-2-2zM9 17H7v-7h2v7zm4 0h-2V7h2v10zm4 0h-2v-4h2v4z\"/>\n",
              "    </g>\n",
              "</svg>\n",
              "  </button>\n",
              "\n",
              "<style>\n",
              "  .colab-df-quickchart {\n",
              "      --bg-color: #E8F0FE;\n",
              "      --fill-color: #1967D2;\n",
              "      --hover-bg-color: #E2EBFA;\n",
              "      --hover-fill-color: #174EA6;\n",
              "      --disabled-fill-color: #AAA;\n",
              "      --disabled-bg-color: #DDD;\n",
              "  }\n",
              "\n",
              "  [theme=dark] .colab-df-quickchart {\n",
              "      --bg-color: #3B4455;\n",
              "      --fill-color: #D2E3FC;\n",
              "      --hover-bg-color: #434B5C;\n",
              "      --hover-fill-color: #FFFFFF;\n",
              "      --disabled-bg-color: #3B4455;\n",
              "      --disabled-fill-color: #666;\n",
              "  }\n",
              "\n",
              "  .colab-df-quickchart {\n",
              "    background-color: var(--bg-color);\n",
              "    border: none;\n",
              "    border-radius: 50%;\n",
              "    cursor: pointer;\n",
              "    display: none;\n",
              "    fill: var(--fill-color);\n",
              "    height: 32px;\n",
              "    padding: 0;\n",
              "    width: 32px;\n",
              "  }\n",
              "\n",
              "  .colab-df-quickchart:hover {\n",
              "    background-color: var(--hover-bg-color);\n",
              "    box-shadow: 0 1px 2px rgba(60, 64, 67, 0.3), 0 1px 3px 1px rgba(60, 64, 67, 0.15);\n",
              "    fill: var(--button-hover-fill-color);\n",
              "  }\n",
              "\n",
              "  .colab-df-quickchart-complete:disabled,\n",
              "  .colab-df-quickchart-complete:disabled:hover {\n",
              "    background-color: var(--disabled-bg-color);\n",
              "    fill: var(--disabled-fill-color);\n",
              "    box-shadow: none;\n",
              "  }\n",
              "\n",
              "  .colab-df-spinner {\n",
              "    border: 2px solid var(--fill-color);\n",
              "    border-color: transparent;\n",
              "    border-bottom-color: var(--fill-color);\n",
              "    animation:\n",
              "      spin 1s steps(1) infinite;\n",
              "  }\n",
              "\n",
              "  @keyframes spin {\n",
              "    0% {\n",
              "      border-color: transparent;\n",
              "      border-bottom-color: var(--fill-color);\n",
              "      border-left-color: var(--fill-color);\n",
              "    }\n",
              "    20% {\n",
              "      border-color: transparent;\n",
              "      border-left-color: var(--fill-color);\n",
              "      border-top-color: var(--fill-color);\n",
              "    }\n",
              "    30% {\n",
              "      border-color: transparent;\n",
              "      border-left-color: var(--fill-color);\n",
              "      border-top-color: var(--fill-color);\n",
              "      border-right-color: var(--fill-color);\n",
              "    }\n",
              "    40% {\n",
              "      border-color: transparent;\n",
              "      border-right-color: var(--fill-color);\n",
              "      border-top-color: var(--fill-color);\n",
              "    }\n",
              "    60% {\n",
              "      border-color: transparent;\n",
              "      border-right-color: var(--fill-color);\n",
              "    }\n",
              "    80% {\n",
              "      border-color: transparent;\n",
              "      border-right-color: var(--fill-color);\n",
              "      border-bottom-color: var(--fill-color);\n",
              "    }\n",
              "    90% {\n",
              "      border-color: transparent;\n",
              "      border-bottom-color: var(--fill-color);\n",
              "    }\n",
              "  }\n",
              "</style>\n",
              "\n",
              "  <script>\n",
              "    async function quickchart(key) {\n",
              "      const quickchartButtonEl =\n",
              "        document.querySelector('#' + key + ' button');\n",
              "      quickchartButtonEl.disabled = true;  // To prevent multiple clicks.\n",
              "      quickchartButtonEl.classList.add('colab-df-spinner');\n",
              "      try {\n",
              "        const charts = await google.colab.kernel.invokeFunction(\n",
              "            'suggestCharts', [key], {});\n",
              "      } catch (error) {\n",
              "        console.error('Error during call to suggestCharts:', error);\n",
              "      }\n",
              "      quickchartButtonEl.classList.remove('colab-df-spinner');\n",
              "      quickchartButtonEl.classList.add('colab-df-quickchart-complete');\n",
              "    }\n",
              "    (() => {\n",
              "      let quickchartButtonEl =\n",
              "        document.querySelector('#df-590d109d-4122-4503-a516-a6fe78b2305c button');\n",
              "      quickchartButtonEl.style.display =\n",
              "        google.colab.kernel.accessAllowed ? 'block' : 'none';\n",
              "    })();\n",
              "  </script>\n",
              "</div>\n",
              "\n",
              "    </div>\n",
              "  </div>\n"
            ],
            "application/vnd.google.colaboratory.intrinsic+json": {
              "type": "dataframe",
              "summary": "{\n  \"name\": \"df\",\n  \"rows\": 8,\n  \"fields\": [\n    {\n      \"column\": \"age\",\n      \"properties\": {\n        \"dtype\": \"number\",\n        \"std\": 11498.327099385335,\n        \"min\": 13.640432553581118,\n        \"max\": 32561.0,\n        \"num_unique_values\": 8,\n        \"samples\": [\n          38.58164675532078,\n          37.0,\n          32561.0\n        ],\n        \"semantic_type\": \"\",\n        \"description\": \"\"\n      }\n    },\n    {\n      \"column\": \"fnlwgt\",\n      \"properties\": {\n        \"dtype\": \"number\",\n        \"std\": 486902.25279056706,\n        \"min\": 12285.0,\n        \"max\": 1484705.0,\n        \"num_unique_values\": 8,\n        \"samples\": [\n          189778.36651208502,\n          178356.0,\n          32561.0\n        ],\n        \"semantic_type\": \"\",\n        \"description\": \"\"\n      }\n    },\n    {\n      \"column\": \"education.num\",\n      \"properties\": {\n        \"dtype\": \"number\",\n        \"std\": 11508.989513934259,\n        \"min\": 1.0,\n        \"max\": 32561.0,\n        \"num_unique_values\": 8,\n        \"samples\": [\n          10.0806793403151,\n          10.0,\n          32561.0\n        ],\n        \"semantic_type\": \"\",\n        \"description\": \"\"\n      }\n    },\n    {\n      \"column\": \"capital.gain\",\n      \"properties\": {\n        \"dtype\": \"number\",\n        \"std\": 35111.63595222633,\n        \"min\": 0.0,\n        \"max\": 99999.0,\n        \"num_unique_values\": 5,\n        \"samples\": [\n          1077.6488437087312,\n          99999.0,\n          7385.292084836109\n        ],\n        \"semantic_type\": \"\",\n        \"description\": \"\"\n      }\n    },\n    {\n      \"column\": \"capital.loss\",\n      \"properties\": {\n        \"dtype\": \"number\",\n        \"std\": 11366.935322921136,\n        \"min\": 0.0,\n        \"max\": 32561.0,\n        \"num_unique_values\": 5,\n        \"samples\": [\n          87.303829734959,\n          4356.0,\n          402.9602186495174\n        ],\n        \"semantic_type\": \"\",\n        \"description\": \"\"\n      }\n    },\n    {\n      \"column\": \"hours.per.week\",\n      \"properties\": {\n        \"dtype\": \"number\",\n        \"std\": 11498.057671750135,\n        \"min\": 1.0,\n        \"max\": 32561.0,\n        \"num_unique_values\": 7,\n        \"samples\": [\n          32561.0,\n          40.437455852092995,\n          45.0\n        ],\n        \"semantic_type\": \"\",\n        \"description\": \"\"\n      }\n    }\n  ]\n}"
            }
          },
          "metadata": {},
          "execution_count": 3
        }
      ]
    },
    {
      "cell_type": "markdown",
      "source": [
        "#### 4.1 데이터 분할"
      ],
      "metadata": {
        "id": "NBP7DF7nPfIx"
      }
    },
    {
      "cell_type": "markdown",
      "source": [
        "Encoding target variable using LabelEncoder"
      ],
      "metadata": {
        "id": "hEJQ3VwsWtKw"
      }
    },
    {
      "cell_type": "code",
      "source": [
        "df['income'] = df['income'].str.strip()  # remove trailing space or dot\n",
        "le = LabelEncoder()\n",
        "df['income'] = le.fit_transform(df['income'])  # '<=50K' → 0, '>50K' → 1\n",
        "\n",
        "print(\"Target classes:\", list(le.classes_))\n",
        "print(\"\\nEncoded class distribution:\")\n",
        "print(df['income'].value_counts())"
      ],
      "metadata": {
        "colab": {
          "base_uri": "https://localhost:8080/"
        },
        "id": "e56KzC8WWVqT",
        "outputId": "766c769c-ea6e-41c3-edb4-3f6074dfbcb0"
      },
      "execution_count": null,
      "outputs": [
        {
          "output_type": "stream",
          "name": "stdout",
          "text": [
            "Target classes: ['<=50K', '>50K']\n",
            "\n",
            "Encoded class distribution:\n",
            "income\n",
            "0    24720\n",
            "1     7841\n",
            "Name: count, dtype: int64\n"
          ]
        }
      ]
    },
    {
      "cell_type": "markdown",
      "source": [
        "Splitting into train and test (stratify by income)"
      ],
      "metadata": {
        "id": "SP-H5bc6Wph6"
      }
    },
    {
      "cell_type": "code",
      "source": [
        "X = df.drop('income', axis=1)\n",
        "y = df['income']\n",
        "X_train, X_test, y_train, y_test = train_test_split(\n",
        "    X, y, test_size=0.2, random_state=42, stratify=y\n",
        ")\n",
        "\n",
        "print(\"Train class distribution:\")\n",
        "print(y_train.value_counts(normalize=True))\n",
        "print(\"\\nTest class distribution:\")\n",
        "print(y_test.value_counts(normalize=True))"
      ],
      "metadata": {
        "colab": {
          "base_uri": "https://localhost:8080/"
        },
        "id": "2d6IkN1sWdLr",
        "outputId": "d0ea0b7d-c518-40d1-df4d-ac0cba80e243"
      },
      "execution_count": null,
      "outputs": [
        {
          "output_type": "stream",
          "name": "stdout",
          "text": [
            "Train class distribution:\n",
            "income\n",
            "0    0.759175\n",
            "1    0.240825\n",
            "Name: proportion, dtype: float64\n",
            "\n",
            "Test class distribution:\n",
            "income\n",
            "0    0.759251\n",
            "1    0.240749\n",
            "Name: proportion, dtype: float64\n"
          ]
        }
      ]
    },
    {
      "cell_type": "markdown",
      "source": [
        "#### 4.2 결측치 처리"
      ],
      "metadata": {
        "id": "JzF2RymmPkwY"
      }
    },
    {
      "cell_type": "markdown",
      "source": [
        "(1) Dropping missing values (결측치 제거 방식)"
      ],
      "metadata": {
        "id": "xI-ssUIlXeiH"
      }
    },
    {
      "cell_type": "code",
      "source": [
        "# DROP 방식 전처리\n",
        "train_df = pd.concat([X_train, y_train], axis=1).dropna()\n",
        "test_df = pd.concat([X_test, y_test], axis=1).dropna()\n",
        "print(f\"After drop - Train: {train_df.shape}, Test: {test_df.shape}\")\n",
        "\n",
        "X_train_drop = train_df.drop('income', axis=1)\n",
        "y_train_drop = train_df['income']\n",
        "X_test_drop = test_df.drop('income', axis=1)\n",
        "y_test_drop = test_df['income']\n",
        "\n",
        "print(f\"After drop - Train: {X_train_drop.shape}, Test: {X_test_drop.shape}\")"
      ],
      "metadata": {
        "colab": {
          "base_uri": "https://localhost:8080/"
        },
        "id": "UU3D4gepP1MD",
        "outputId": "ba222444-18b9-4524-e021-ed858459d894"
      },
      "execution_count": null,
      "outputs": [
        {
          "output_type": "stream",
          "name": "stdout",
          "text": [
            "After drop - Train: (24148, 15), Test: (6014, 15)\n",
            "After drop - Train: (24148, 14), Test: (6014, 14)\n"
          ]
        }
      ]
    },
    {
      "cell_type": "markdown",
      "source": [
        "(2) 결측치 대체 방식\n",
        "\n",
        "• 숫자형 변수는 평균(mean)으로, 범주형 변수는 최빈값(mode)으로 결측치를\n",
        "대체합니다.\n",
        "\n",
        "• drop과 impute 방식에서 최종 데이터 크기 차이를 비교하고 간단히 분석\n",
        "합니다."
      ],
      "metadata": {
        "id": "F9ssJnyfchtJ"
      }
    },
    {
      "cell_type": "markdown",
      "source": [
        "✔ fit() vs transform() vs fit_transform() 구분 ✔\n",
        "\n",
        "* fit():\t훈련 데이터를 기반으로 평균, 최빈값 등 필요한 통계값을 계산\n",
        "\n",
        "* transform():\t이미 계산된 값(평균, 최빈값 등)을 사용해 데이터를 변환\n",
        "\n",
        "* fit_transform()\tfit() + transform(): 한 번에 실행\n",
        "\n",
        "\n",
        "\n",
        "---\n",
        "\n",
        "❗ 테스트 데이터에는 transform()만 사용\n",
        "* 훈련 데이터에서 결측치를 평균값 25로 대체 가정\n",
        "* 테스트 데이터에서 fit_transform을 다시하면 훈련이 다시 되고 테스트 데이터만의 평균을 다시 계산 후 적용하게 됨\n",
        "\n",
        "→ 즉,  transform()만 하면 훈련 데이터에서 계산한 25로 그대로 대체\n",
        "* 일관성 유지 가능함\n",
        "* 데이터 누수(data leakage) 없이, 실제 상황과 유사한 테스트가 가능"
      ],
      "metadata": {
        "id": "vc0A6GUeWHiI"
      }
    },
    {
      "cell_type": "code",
      "source": [
        "# IMPUTE 방식 전처리\n",
        "\n",
        "# 숫자형, 범주형 변수 구분\n",
        "X_train_cat = X_train.select_dtypes(include='object') # category\n",
        "X_train_num = X_train.select_dtypes(include=['int64', 'float64']) # numeric\n",
        "\n",
        "## exclude='object'\n",
        "\n",
        "# 숫자형 → 평균(mean), 범주형 → 최빈값(mode)으로 Imputer 설정\n",
        "cat_imputer = SimpleImputer(strategy='most_frequent')\n",
        "num_imputer = SimpleImputer(strategy='mean')\n",
        "\n",
        "# 훈련 데이터, fit_transform\n",
        "X_train_cat_imp = pd.DataFrame(cat_imputer.fit_transform(X_train_cat), columns=X_train_cat.columns)\n",
        "X_train_num_imp = pd.DataFrame(num_imputer.fit_transform(X_train_num), columns=X_train_num.columns)\n",
        "\n",
        "# 숫자형과 범주형 데이터 합치기\n",
        "X_train_imp = pd.concat([X_train_cat_imp, X_train_num_imp], axis=1)"
      ],
      "metadata": {
        "id": "6HKPC5kWgL3w"
      },
      "execution_count": null,
      "outputs": []
    },
    {
      "cell_type": "code",
      "source": [
        "# 숫자형, 범주형 변수 구분\n",
        "X_test_cat = X_test.select_dtypes(include='object')\n",
        "X_test_num = X_test.select_dtypes(include=['int64', 'float64'])\n",
        "\n",
        "# 테스트 데이터에는 transform만 적용\n",
        "X_test_cat_imp = pd.DataFrame(cat_imputer.transform(X_test_cat), columns=X_test_cat.columns)\n",
        "X_test_num_imp = pd.DataFrame(num_imputer.transform(X_test_num), columns=X_test_num.columns)\n",
        "\n",
        "# 숫자형과 범주형 데이터 합치기\n",
        "X_test_imp = pd.concat([X_test_cat_imp, X_test_num_imp], axis=1)\n",
        "\n",
        "# impute 라벨은 drop하지 않은 원본 사용해야 해서 따로 처리\n",
        "y_train_imp = y_train.reset_index(drop=True)\n",
        "y_test_imp = y_test.reset_index(drop=True)"
      ],
      "metadata": {
        "id": "TpgrVOkMe6Us"
      },
      "execution_count": null,
      "outputs": []
    },
    {
      "cell_type": "code",
      "source": [
        "print(f\"After impute - Train: {X_train_imp.shape}, Test: {X_test_imp.shape}\")\n",
        "\n",
        "drop_train_size = X_train_drop.shape[0]\n",
        "impute_train_size = X_train_imp.shape[0]\n",
        "drop_test_size = X_test_drop.shape[0]\n",
        "impute_test_size = X_test_imp.shape[0]\n",
        "\n",
        "print(f\"Train 데이터에서 drop 방식은 전체 중 {(1 - drop_train_size / impute_train_size) * 100:.2f}% 의 데이터가 손실됨.\")\n",
        "print(f\"Test 데이터에서 drop 방식은 전체 중 {(1 - drop_test_size / impute_test_size) * 100:.2f}% 의 데이터가 손실됨.\")"
      ],
      "metadata": {
        "colab": {
          "base_uri": "https://localhost:8080/"
        },
        "id": "Ey6NlhzHe8Yz",
        "outputId": "85961f9a-bbda-4295-ec8a-5f5efbb1a002"
      },
      "execution_count": null,
      "outputs": [
        {
          "output_type": "stream",
          "name": "stdout",
          "text": [
            "After impute - Train: (26048, 14), Test: (6513, 14)\n",
            "Train 데이터에서 drop 방식은 전체 중 7.29% 의 데이터가 손실됨.\n",
            "Test 데이터에서 drop 방식은 전체 중 7.66% 의 데이터가 손실됨.\n"
          ]
        }
      ]
    },
    {
      "cell_type": "markdown",
      "source": [
        "\n",
        "\n",
        "```\n",
        "imputed_cat_data = pd.DataFrame(cat_imputer.fit_transform(X_train_cat))\n",
        "```\n",
        "위 코드에서 인코딩시 문제 발생,\n",
        "\n",
        "> cat_imputer.fit_transform(X_train_cat)은 결과를 NumPy 배열로 반환\n",
        "\n",
        "→ NumPy 배열에는 열 이름(columns)과 데이터 타입(dtype)이 없음\n",
        "\n",
        "즉, 처음만든 `DataFrame`은 열 이름이 `0, 1, 2...`으로 자동 지정되고 `dtype`도 `object`가 아닐 수 있음.\n",
        "\n",
        "\\**'`dtype`도 `object`가 아닐 수 있음'은 열 이름을 따로 지정해주지 않으면 `0,1`처럼 숫자로 지정되기 때문에 데이터 타입은 object일 수도 있고, 숫자형이면 float64나 int64로 바뀜\n",
        "\n",
        "\n",
        "---\n",
        "\n",
        "\n",
        "🛠️ 그래서 무슨 일이 발생하느냐?\n",
        "```\n",
        "df_new.select_dtypes(include='object')\n",
        "```\n",
        "위 코드가 정상적으로 작동하지 못함.\n",
        "\n",
        "이게 정상적으로 동작하려면 문자열 타입이면서 열 이름도 정확히 있어야 작동함.\n",
        "\n",
        "하지만 Imputer 후 만든 DataFrame에서 열 이름을 지정 안 하면:\n",
        "* select_dtypes()가 범주형 열을 못 찾음\n",
        "* 나중에 OneHotEncoder가 범주형 열을 찾지 못해 에러가 나거나 데이터가 이상하게 인코딩됨.\n",
        "\n",
        "\n"
      ],
      "metadata": {
        "id": "iSeXkbVKqPJ9"
      }
    },
    {
      "cell_type": "markdown",
      "source": [
        "#### One-Hot Encoding 적용"
      ],
      "metadata": {
        "id": "G6fOAyyNPnWl"
      }
    },
    {
      "cell_type": "markdown",
      "source": [
        "one-hot Encoding : 범주형(카테고리형) 변수를 기계 학습 모델이 이해할 수 있는 숫자형 벡터로 변환하는 도구\n",
        "\n",
        "〰OneHotEncoding이 필요한 이유〰\n",
        "* 기계 학습 모델은 숫자만 이해하지만 데이터에는 문자열 범주형 데이터가 존재함\n",
        "\n",
        "예시) '색상' 열이 존재한다고 가정\n",
        "\n",
        "```\n",
        "df = pd.DataFrame({\n",
        "    'color': ['red', 'green', 'blue']\n",
        "})\n",
        "```\n",
        "이를 단순히 `빨강=1`, `초록=2`, `파랑=3`의 방식으로 바꾸면 `파랑 > 초록 > 빨강`처럼 크기 비교를 함.\n",
        "\n",
        "![image.png](data:image/png;base64,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)\n"
      ],
      "metadata": {
        "id": "INNqV2N8ddvF"
      }
    },
    {
      "cell_type": "markdown",
      "source": [
        "4-3. One-Hot Encoding categorical variables (Droped Data)"
      ],
      "metadata": {
        "id": "NBtcQspEYLYw"
      }
    },
    {
      "cell_type": "code",
      "source": [
        "cat_cols = X_train_drop.select_dtypes(include='object').columns\n",
        "num_cols = X_train_drop.select_dtypes(exclude='object').columns\n",
        "\n",
        "encoder_drop = OneHotEncoder(handle_unknown='ignore', sparse_output=False)\n",
        "encoder_drop.fit(X_train_drop[cat_cols]) # 훈련 데이터에만 fit\n",
        "\n",
        "# 범주형 → 문자열을 수치로 인코딩해야 모델이 학습 가능\n",
        "X_train_drop_cat = encoder_drop.transform(X_train_drop[cat_cols])\n",
        "X_test_drop_cat = encoder_drop.transform(X_test_drop[cat_cols])  # 테스트는 transform만\n",
        "\n",
        "# 숫자형 → 이미 숫자이므로 추가 변환 없이 배열로만 바꿔줌\n",
        "X_train_drop_num = X_train_drop[num_cols].values # X_train_drop[num_cols] → 숫자형 컬럼들만 선택한 DataFrame\n",
        "X_test_drop_num = X_test_drop[num_cols].values #.values → DataFrame을 NumPy 배열 (ndarray) 로 변환\n",
        "\n",
        "X_train_drop_final = np.hstack([X_train_drop_num, X_train_drop_cat])\n",
        "X_test_drop_final = np.hstack([X_test_drop_num, X_test_drop_cat])\n",
        "\n",
        "print(f\"Final feature shape - Train: {X_train_drop_final.shape}, Test: {X_test_drop_final.shape}\")"
      ],
      "metadata": {
        "colab": {
          "base_uri": "https://localhost:8080/"
        },
        "id": "odyXkK-yPrGk",
        "outputId": "0073f5be-dee8-4745-a87b-9905f53301a5"
      },
      "execution_count": null,
      "outputs": [
        {
          "output_type": "stream",
          "name": "stdout",
          "text": [
            "Final feature shape - Train: (24148, 103), Test: (6014, 103)\n"
          ]
        }
      ]
    },
    {
      "cell_type": "markdown",
      "source": [
        "\n",
        "\n",
        "\n",
        "---\n",
        "\n",
        "\n",
        "🔹 `.columns`는 OneHotEncoder와 직접적으로 관계 있는 건 아니고,\n",
        "\n",
        "🔹 DataFrame에서 범주형 컬럼만 선택할 때 사용하는 Pandas 코드\n",
        "\n",
        "\n",
        "❓ .columns는 뭐 할때 사용하는가?\n",
        "```\n",
        "cat_cols = X_train_drop.select_dtypes(include='object').columns\n",
        "```\n",
        "* 여기서 .columns는 DataFrame에서 컬럼 이름만 뽑아내는 역할\n",
        "* 그 DataFrame의 **컬럼 이름(index object)**만 반환 (Index([...]) 형태)\n",
        "\n",
        "\n",
        "\n",
        "```\n",
        "X_train_drop.select_dtypes(include='object')\n",
        "```\n",
        "* 범주형 컬럼들만 DataFrame으로 반환\n",
        "\n",
        "\n",
        "결론적으로\n",
        "```\n",
        "encoder.fit(X_train_drop[cat_cols])\n",
        "```\n",
        "이렇게 쓰는 것이 일반적임.\n",
        "\n",
        "\n",
        "---\n",
        "\n",
        "\n"
      ],
      "metadata": {
        "id": "p8iqqgaaic2z"
      }
    },
    {
      "cell_type": "markdown",
      "source": [
        "4-3. One-Hot Encoding categorical variables (Imputed Data)"
      ],
      "metadata": {
        "id": "Bq0VBSp4qJ43"
      }
    },
    {
      "cell_type": "code",
      "source": [
        "cat_cols = X_train_cat_imp.columns\n",
        "num_cols = X_train_num_imp.columns\n",
        "\n",
        "encoder_imp = OneHotEncoder(handle_unknown='ignore', sparse_output=False)\n",
        "encoder_imp.fit(X_train_imp[cat_cols])\n",
        "\n",
        "X_train_imp_cat = encoder_imp.transform(X_train_imp[cat_cols])\n",
        "X_test_imp_cat = encoder_imp.transform(X_test_imp[cat_cols])\n",
        "\n",
        "X_train_imp_num = X_train_imp[num_cols].values\n",
        "X_test_imp_num = X_test_imp[num_cols].values\n",
        "\n",
        "\n",
        "X_train_imp_final = np.hstack([X_train_imp_num, X_train_imp_cat])\n",
        "X_test_imp_final = np.hstack([X_test_imp_num, X_test_imp_cat])\n",
        "#오류: One-Hot Encoding 이후 열 개수가 왜 늘어나는지??\n",
        "\n",
        "print(f\"Final feature shape - Train: {X_train_imp_final.shape}, Test: {X_test_imp_final.shape}\")"
      ],
      "metadata": {
        "colab": {
          "base_uri": "https://localhost:8080/"
        },
        "id": "ved1thoOqOwX",
        "outputId": "6ffe3199-9cbe-4b26-d224-f121ff263b65"
      },
      "execution_count": null,
      "outputs": [
        {
          "output_type": "stream",
          "name": "stdout",
          "text": [
            "Final feature shape - Train: (26048, 104), Test: (6513, 104)\n"
          ]
        }
      ]
    },
    {
      "cell_type": "markdown",
      "source": [
        "Scaling all features..."
      ],
      "metadata": {
        "id": "TZrTtS4oYYXg"
      }
    },
    {
      "cell_type": "code",
      "source": [
        "scaler = StandardScaler()\n",
        "scaler.fit(X_train_imp_final)\n",
        "X_train_scaled = scaler.transform(X_train_imp_final)\n",
        "X_test_scaled = scaler.transform(X_test_imp_final)\n",
        "\n",
        "print(\"Scaling complete.\")"
      ],
      "metadata": {
        "id": "2daOWkJaYUtQ",
        "colab": {
          "base_uri": "https://localhost:8080/"
        },
        "outputId": "049459bb-5960-4817-f94c-87150e47503a"
      },
      "execution_count": null,
      "outputs": [
        {
          "output_type": "stream",
          "name": "stdout",
          "text": [
            "Scaling complete.\n"
          ]
        }
      ]
    },
    {
      "cell_type": "markdown",
      "source": [
        "#### 분류 모델 학습"
      ],
      "metadata": {
        "id": "B2fb69ZrPsHJ"
      }
    },
    {
      "cell_type": "markdown",
      "source": [
        "4.4 Training Logistic Regression"
      ],
      "metadata": {
        "id": "763gAmgOYboI"
      }
    },
    {
      "cell_type": "markdown",
      "source": [
        ">SVC는 SVM의 한 종류이며, 클래스 이름을 그대로 쓰는 것이 명확하고 혼란을 줄일 수 있음.\n",
        "\n",
        ">따라서 일반적으로는 from sklearn.svm import SVC 그대로 사용함.\n",
        "\n",
        "+) SVC는 분류기고, SVR은 회귀기 / SVM은 이 둘을 모두 포함하는 포괄 개념이라 혼동 우려 있음"
      ],
      "metadata": {
        "id": "ZzvO-OVevJG9"
      }
    },
    {
      "cell_type": "code",
      "source": [
        "from sklearn.svm import SVC\n",
        "\n",
        "# Drop 방식 - Logistic Regression\n",
        "lr_drop_model = LogisticRegression(max_iter=1000)\n",
        "lr_drop_model.fit(X_train_drop_final, y_train_drop)\n",
        "\n",
        "# Drop 방식 - SVM (RBF kernel)\n",
        "svm_drop_model = SVC(kernel='rbf')\n",
        "svm_drop_model.fit(X_train_drop_final, y_train_drop)\n",
        "\n",
        "# Impute 방식 - Logistic Regression\n",
        "lr_imp_model = LogisticRegression(max_iter=1000)\n",
        "lr_imp_model.fit(X_train_scaled, y_train_imp)\n",
        "\n",
        "# Impute 방식 - SVM (RBF kernel)\n",
        "svm_imp_model = SVC(kernel='rbf')\n",
        "svm_imp_model.fit(X_train_scaled, y_train_imp)\n",
        "\n",
        "\n",
        "print(\"Training complete.\")"
      ],
      "metadata": {
        "id": "eSt4IlhQPu3B",
        "colab": {
          "base_uri": "https://localhost:8080/"
        },
        "outputId": "fb430a87-64ad-4e65-df5f-d5d6a20bb64a"
      },
      "execution_count": null,
      "outputs": [
        {
          "output_type": "stream",
          "name": "stderr",
          "text": [
            "/usr/local/lib/python3.11/dist-packages/sklearn/linear_model/_logistic.py:465: ConvergenceWarning: lbfgs failed to converge (status=1):\n",
            "STOP: TOTAL NO. of ITERATIONS REACHED LIMIT.\n",
            "\n",
            "Increase the number of iterations (max_iter) or scale the data as shown in:\n",
            "    https://scikit-learn.org/stable/modules/preprocessing.html\n",
            "Please also refer to the documentation for alternative solver options:\n",
            "    https://scikit-learn.org/stable/modules/linear_model.html#logistic-regression\n",
            "  n_iter_i = _check_optimize_result(\n"
          ]
        },
        {
          "output_type": "stream",
          "name": "stdout",
          "text": [
            "Training complete.\n"
          ]
        }
      ]
    },
    {
      "cell_type": "markdown",
      "source": [
        "#### 성능 평가 및 비교"
      ],
      "metadata": {
        "id": "bn6yww55P1wR"
      }
    },
    {
      "cell_type": "markdown",
      "source": [
        "4.5 Evaluating on test set"
      ],
      "metadata": {
        "id": "ocRHpJ9hmary"
      }
    },
    {
      "cell_type": "code",
      "source": [
        "# Drop 방식 - Logistic Regression\n",
        "lr_drop_predict = lr_drop_model.predict(X_test_drop_final)\n",
        "\n",
        "lr_drop_acc = accuracy_score(y_test_drop, lr_drop_predict)\n",
        "print(\"\\n[Drop 방식 - Logistic Regression 결과]\")\n",
        "print(f\"Accuracy: {lr_drop_acc:.4f}\")\n",
        "print(classification_report(y_test_drop,lr_drop_predict))\n",
        "\n",
        "\n",
        "svm_drop_predict = svm_drop_model.predict(X_test_drop_final)\n",
        "\n",
        "svm_drop_acc = accuracy_score(y_test_drop, svm_drop_predict)\n",
        "print(\"\\n[Drop 방식 - SVM (RBF) 결과]\")\n",
        "print(f\"Accuracy: {svm_drop_acc:.4f}\")\n",
        "print(classification_report(y_test_drop, svm_drop_predict))\n",
        "\n",
        "\n",
        "lr_imp_predict = lr_imp_model.predict(X_test_scaled)\n",
        "\n",
        "print(\"\\n[Impute 방식 - Logistic Regression 결과]\")\n",
        "print(\"Accuracy:\", accuracy_score(y_test, lr_imp_predict))\n",
        "print(classification_report(y_test, lr_imp_predict))\n",
        "\n",
        "\n",
        "svm_imp_predict = svm_imp_model.predict(X_test_scaled)\n",
        "\n",
        "print(\"\\n[Impute 방식 - SVM (RBF) 결과]\")\n",
        "print(\"Accuracy:\", accuracy_score(y_test, svm_imp_predict))\n",
        "print(classification_report(y_test, svm_imp_predict))"
      ],
      "metadata": {
        "id": "eUZTG1DqmCBe",
        "colab": {
          "base_uri": "https://localhost:8080/"
        },
        "outputId": "71d5e7f5-af57-4c68-8777-6a2dd1594cca"
      },
      "execution_count": null,
      "outputs": [
        {
          "output_type": "stream",
          "name": "stdout",
          "text": [
            "\n",
            "[Drop 방식 - Logistic Regression 결과]\n",
            "Accuracy: 0.8395\n",
            "              precision    recall  f1-score   support\n",
            "\n",
            "           0       0.87      0.93      0.90      4510\n",
            "           1       0.73      0.57      0.64      1504\n",
            "\n",
            "    accuracy                           0.84      6014\n",
            "   macro avg       0.80      0.75      0.77      6014\n",
            "weighted avg       0.83      0.84      0.83      6014\n",
            "\n",
            "\n",
            "[Drop 방식 - SVM (RBF) 결과]\n",
            "Accuracy: 0.7850\n",
            "              precision    recall  f1-score   support\n",
            "\n",
            "           0       0.78      1.00      0.87      4510\n",
            "           1       0.98      0.14      0.25      1504\n",
            "\n",
            "    accuracy                           0.79      6014\n",
            "   macro avg       0.88      0.57      0.56      6014\n",
            "weighted avg       0.83      0.79      0.72      6014\n",
            "\n",
            "\n",
            "[Impute 방식 - Logistic Regression 결과]\n",
            "Accuracy: 0.8516812528788577\n",
            "              precision    recall  f1-score   support\n",
            "\n",
            "           0       0.88      0.93      0.91      4945\n",
            "           1       0.74      0.60      0.66      1568\n",
            "\n",
            "    accuracy                           0.85      6513\n",
            "   macro avg       0.81      0.77      0.78      6513\n",
            "weighted avg       0.85      0.85      0.85      6513\n",
            "\n",
            "\n",
            "[Impute 방식 - SVM (RBF) 결과]\n",
            "Accuracy: 0.846307385229541\n",
            "              precision    recall  f1-score   support\n",
            "\n",
            "           0       0.87      0.94      0.90      4945\n",
            "           1       0.74      0.56      0.64      1568\n",
            "\n",
            "    accuracy                           0.85      6513\n",
            "   macro avg       0.80      0.75      0.77      6513\n",
            "weighted avg       0.84      0.85      0.84      6513\n",
            "\n"
          ]
        }
      ]
    }
  ]
}